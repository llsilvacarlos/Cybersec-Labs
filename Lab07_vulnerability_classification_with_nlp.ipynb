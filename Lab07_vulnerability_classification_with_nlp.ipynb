{
  "nbformat": 4,
  "nbformat_minor": 0,
  "metadata": {
    "accelerator": "GPU",
    "colab": {
      "name": "Lab07-vulnerability-classification-with-nlp.ipynb",
      "provenance": [],
      "include_colab_link": true
    },
    "kernelspec": {
      "display_name": "Python 3",
      "name": "python3"
    },
    "language_info": {
      "name": "python"
    }
  },
  "cells": [
    {
      "cell_type": "markdown",
      "metadata": {
        "id": "view-in-github",
        "colab_type": "text"
      },
      "source": [
        "<a href=\"https://colab.research.google.com/github/llsilvacarlos/Cybersec-Labs/blob/main/Lab07_vulnerability_classification_with_nlp.ipynb\" target=\"_parent\"><img src=\"https://colab.research.google.com/assets/colab-badge.svg\" alt=\"Open In Colab\"/></a>"
      ]
    },
    {
      "cell_type": "markdown",
      "metadata": {
        "id": "xTZUdOvAVDIK"
      },
      "source": [
        "# Vulnerability Classification with Natural Language Processing\n",
        "\n",
        "So far, we have been classifying vulnerabilities using features like the ones used to compute CVSS. In this lab, you will learn how to apply Natural Language Processing (NLP) techniques to extract features from texts. One can apply such methods, for instance, to process textual fields like the vulnerability description."
      ]
    },
    {
      "cell_type": "markdown",
      "metadata": {
        "id": "4m6ckyjGXQIy"
      },
      "source": [
        "## Preprocessing techniques\n",
        "\n",
        "We will see in this lab that we often use machine learning models to solve natural language processing problems. However, as we saw in the previous labs, machine learning models expect numbers as input, so we first need to convert our texts to numbers. Ideally, before jumping to that task, we should make sure that our texts are consistent in terms of symbols, punctuation, and so on. Let's take a look at how to do that."
      ]
    },
    {
      "cell_type": "markdown",
      "metadata": {
        "id": "YRJPEd1LXlQ2"
      },
      "source": [
        "### Cleaning & normalization\n",
        "\n",
        "Text data can be messy sometimes. People can type special characters, use inconsistent punctuation symbols, emojis, or even symbols that are only present in non-English languages. As a concrete example, take a look at the following comparison. Why is the result `False`?"
      ]
    },
    {
      "cell_type": "code",
      "metadata": {
        "colab": {
          "base_uri": "https://localhost:8080/"
        },
        "id": "aikWftdOVRyt",
        "outputId": "921b62eb-f161-46ee-9323-0c1175838b68"
      },
      "source": [
        "print(\"it‘s ok\" == \"it’s ok\")\n"
      ],
      "execution_count": null,
      "outputs": [
        {
          "output_type": "stream",
          "text": [
            "False\n"
          ],
          "name": "stdout"
        }
      ]
    },
    {
      "cell_type": "markdown",
      "metadata": {
        "id": "C5wvHqIveyWM"
      },
      "source": [
        "## Lab: classifying vulnerabilities severity\n",
        "\n",
        "Now it's your turn. You should train a classifier to predict vulnerabilities severities based on their description. Let's start by downloading and exploring another dataset.\n",
        "\n",
        "Important! Before you get started, create a copy of this notebook to your google drive and work on your own copy.\n",
        "\n",
        "Once you are done, submit your solutions here: [https://forms.gle/i1wetqnyoh1vHLRi6](https://forms.gle/i1wetqnyoh1vHLRi6).\n",
        "\n",
        "The following dataset was built off of the National Vulnerability Database (NVD). It contains several CVE records from 2016 to 2020. Each CVE has a vulnerability description, a severity (based on CVSS 3), a field indicating whether it has an exploit listed on Exploit-DB, and a list of Exploit IDs when the last condition is true."
      ]
    },
    {
      "cell_type": "code",
      "source": [
        "import numpy as np\n",
        "import pandas as pd\n",
        "\n",
        "import tensorflow_datasets as tfds\n",
        "import tensorflow as tf\n",
        "\n",
        "import matplotlib.pyplot as plt\n",
        "\n",
        "tfds.disable_progress_bar()\n"
      ],
      "metadata": {
        "id": "pBoj_JspnY7r"
      },
      "execution_count": 21,
      "outputs": []
    },
    {
      "cell_type": "code",
      "source": [
        "!wget 'https://docs.google.com/uc?export=download&id=1ZHVmHh1KWYeiYEHQhOwDJQ1tC93a-n6a' -O '211ds.csv' -q\n",
        "df = pd.read_csv('211ds.csv', names=['cve_id', 'description', 'severity', 'has_exploit', 'exploit_ids'])\n",
        "df"
      ],
      "metadata": {
        "colab": {
          "base_uri": "https://localhost:8080/",
          "height": 424
        },
        "id": "561R-eIantcc",
        "outputId": "bddc27e0-fcd3-4ad0-b093-2459b4a0613f"
      },
      "execution_count": null,
      "outputs": [
        {
          "output_type": "execute_result",
          "data": {
            "text/html": [
              "\n",
              "  <div id=\"df-c86caf7b-8ec5-42cc-9261-1648c19d8795\">\n",
              "    <div class=\"colab-df-container\">\n",
              "      <div>\n",
              "<style scoped>\n",
              "    .dataframe tbody tr th:only-of-type {\n",
              "        vertical-align: middle;\n",
              "    }\n",
              "\n",
              "    .dataframe tbody tr th {\n",
              "        vertical-align: top;\n",
              "    }\n",
              "\n",
              "    .dataframe thead th {\n",
              "        text-align: right;\n",
              "    }\n",
              "</style>\n",
              "<table border=\"1\" class=\"dataframe\">\n",
              "  <thead>\n",
              "    <tr style=\"text-align: right;\">\n",
              "      <th></th>\n",
              "      <th>cve_id</th>\n",
              "      <th>description</th>\n",
              "      <th>severity</th>\n",
              "      <th>has_exploit</th>\n",
              "      <th>exploit_ids</th>\n",
              "    </tr>\n",
              "  </thead>\n",
              "  <tbody>\n",
              "    <tr>\n",
              "      <th>0</th>\n",
              "      <td>CVE-2016-0002</td>\n",
              "      <td>The Microsoft (1) VBScript 5.7 and 5.8 and (2)...</td>\n",
              "      <td>HIGH</td>\n",
              "      <td>0</td>\n",
              "      <td>NaN</td>\n",
              "    </tr>\n",
              "    <tr>\n",
              "      <th>1</th>\n",
              "      <td>CVE-2016-0003</td>\n",
              "      <td>Microsoft Edge allows remote attackers to exec...</td>\n",
              "      <td>CRITICAL</td>\n",
              "      <td>0</td>\n",
              "      <td>NaN</td>\n",
              "    </tr>\n",
              "    <tr>\n",
              "      <th>2</th>\n",
              "      <td>CVE-2016-0005</td>\n",
              "      <td>Microsoft Internet Explorer 9 through 11 allow...</td>\n",
              "      <td>MEDIUM</td>\n",
              "      <td>0</td>\n",
              "      <td>NaN</td>\n",
              "    </tr>\n",
              "    <tr>\n",
              "      <th>3</th>\n",
              "      <td>CVE-2016-0006</td>\n",
              "      <td>The sandbox implementation in Microsoft Window...</td>\n",
              "      <td>HIGH</td>\n",
              "      <td>1</td>\n",
              "      <td>39311</td>\n",
              "    </tr>\n",
              "    <tr>\n",
              "      <th>4</th>\n",
              "      <td>CVE-2016-0007</td>\n",
              "      <td>The sandbox implementation in Microsoft Window...</td>\n",
              "      <td>HIGH</td>\n",
              "      <td>1</td>\n",
              "      <td>39310,39311</td>\n",
              "    </tr>\n",
              "    <tr>\n",
              "      <th>...</th>\n",
              "      <td>...</td>\n",
              "      <td>...</td>\n",
              "      <td>...</td>\n",
              "      <td>...</td>\n",
              "      <td>...</td>\n",
              "    </tr>\n",
              "    <tr>\n",
              "      <th>71345</th>\n",
              "      <td>CVE-2020-9994</td>\n",
              "      <td>A path handling issue was addressed with impro...</td>\n",
              "      <td>HIGH</td>\n",
              "      <td>0</td>\n",
              "      <td>NaN</td>\n",
              "    </tr>\n",
              "    <tr>\n",
              "      <th>71346</th>\n",
              "      <td>CVE-2020-9995</td>\n",
              "      <td>An issue existed in the parsing of URLs. This ...</td>\n",
              "      <td>MEDIUM</td>\n",
              "      <td>0</td>\n",
              "      <td>NaN</td>\n",
              "    </tr>\n",
              "    <tr>\n",
              "      <th>71347</th>\n",
              "      <td>CVE-2020-9996</td>\n",
              "      <td>A use after free issue was addressed with impr...</td>\n",
              "      <td>HIGH</td>\n",
              "      <td>0</td>\n",
              "      <td>NaN</td>\n",
              "    </tr>\n",
              "    <tr>\n",
              "      <th>71348</th>\n",
              "      <td>CVE-2020-9997</td>\n",
              "      <td>An information disclosure issue was addressed ...</td>\n",
              "      <td>MEDIUM</td>\n",
              "      <td>0</td>\n",
              "      <td>NaN</td>\n",
              "    </tr>\n",
              "    <tr>\n",
              "      <th>71349</th>\n",
              "      <td>CVE-2020-9999</td>\n",
              "      <td>A memory corruption issue was addressed with i...</td>\n",
              "      <td>HIGH</td>\n",
              "      <td>0</td>\n",
              "      <td>NaN</td>\n",
              "    </tr>\n",
              "  </tbody>\n",
              "</table>\n",
              "<p>71350 rows × 5 columns</p>\n",
              "</div>\n",
              "      <button class=\"colab-df-convert\" onclick=\"convertToInteractive('df-c86caf7b-8ec5-42cc-9261-1648c19d8795')\"\n",
              "              title=\"Convert this dataframe to an interactive table.\"\n",
              "              style=\"display:none;\">\n",
              "        \n",
              "  <svg xmlns=\"http://www.w3.org/2000/svg\" height=\"24px\"viewBox=\"0 0 24 24\"\n",
              "       width=\"24px\">\n",
              "    <path d=\"M0 0h24v24H0V0z\" fill=\"none\"/>\n",
              "    <path d=\"M18.56 5.44l.94 2.06.94-2.06 2.06-.94-2.06-.94-.94-2.06-.94 2.06-2.06.94zm-11 1L8.5 8.5l.94-2.06 2.06-.94-2.06-.94L8.5 2.5l-.94 2.06-2.06.94zm10 10l.94 2.06.94-2.06 2.06-.94-2.06-.94-.94-2.06-.94 2.06-2.06.94z\"/><path d=\"M17.41 7.96l-1.37-1.37c-.4-.4-.92-.59-1.43-.59-.52 0-1.04.2-1.43.59L10.3 9.45l-7.72 7.72c-.78.78-.78 2.05 0 2.83L4 21.41c.39.39.9.59 1.41.59.51 0 1.02-.2 1.41-.59l7.78-7.78 2.81-2.81c.8-.78.8-2.07 0-2.86zM5.41 20L4 18.59l7.72-7.72 1.47 1.35L5.41 20z\"/>\n",
              "  </svg>\n",
              "      </button>\n",
              "      \n",
              "  <style>\n",
              "    .colab-df-container {\n",
              "      display:flex;\n",
              "      flex-wrap:wrap;\n",
              "      gap: 12px;\n",
              "    }\n",
              "\n",
              "    .colab-df-convert {\n",
              "      background-color: #E8F0FE;\n",
              "      border: none;\n",
              "      border-radius: 50%;\n",
              "      cursor: pointer;\n",
              "      display: none;\n",
              "      fill: #1967D2;\n",
              "      height: 32px;\n",
              "      padding: 0 0 0 0;\n",
              "      width: 32px;\n",
              "    }\n",
              "\n",
              "    .colab-df-convert:hover {\n",
              "      background-color: #E2EBFA;\n",
              "      box-shadow: 0px 1px 2px rgba(60, 64, 67, 0.3), 0px 1px 3px 1px rgba(60, 64, 67, 0.15);\n",
              "      fill: #174EA6;\n",
              "    }\n",
              "\n",
              "    [theme=dark] .colab-df-convert {\n",
              "      background-color: #3B4455;\n",
              "      fill: #D2E3FC;\n",
              "    }\n",
              "\n",
              "    [theme=dark] .colab-df-convert:hover {\n",
              "      background-color: #434B5C;\n",
              "      box-shadow: 0px 1px 3px 1px rgba(0, 0, 0, 0.15);\n",
              "      filter: drop-shadow(0px 1px 2px rgba(0, 0, 0, 0.3));\n",
              "      fill: #FFFFFF;\n",
              "    }\n",
              "  </style>\n",
              "\n",
              "      <script>\n",
              "        const buttonEl =\n",
              "          document.querySelector('#df-c86caf7b-8ec5-42cc-9261-1648c19d8795 button.colab-df-convert');\n",
              "        buttonEl.style.display =\n",
              "          google.colab.kernel.accessAllowed ? 'block' : 'none';\n",
              "\n",
              "        async function convertToInteractive(key) {\n",
              "          const element = document.querySelector('#df-c86caf7b-8ec5-42cc-9261-1648c19d8795');\n",
              "          const dataTable =\n",
              "            await google.colab.kernel.invokeFunction('convertToInteractive',\n",
              "                                                     [key], {});\n",
              "          if (!dataTable) return;\n",
              "\n",
              "          const docLinkHtml = 'Like what you see? Visit the ' +\n",
              "            '<a target=\"_blank\" href=https://colab.research.google.com/notebooks/data_table.ipynb>data table notebook</a>'\n",
              "            + ' to learn more about interactive tables.';\n",
              "          element.innerHTML = '';\n",
              "          dataTable['output_type'] = 'display_data';\n",
              "          await google.colab.output.renderOutput(dataTable, element);\n",
              "          const docLink = document.createElement('div');\n",
              "          docLink.innerHTML = docLinkHtml;\n",
              "          element.appendChild(docLink);\n",
              "        }\n",
              "      </script>\n",
              "    </div>\n",
              "  </div>\n",
              "  "
            ],
            "text/plain": [
              "              cve_id  ...  exploit_ids\n",
              "0      CVE-2016-0002  ...          NaN\n",
              "1      CVE-2016-0003  ...          NaN\n",
              "2      CVE-2016-0005  ...          NaN\n",
              "3      CVE-2016-0006  ...        39311\n",
              "4      CVE-2016-0007  ...  39310,39311\n",
              "...              ...  ...          ...\n",
              "71345  CVE-2020-9994  ...          NaN\n",
              "71346  CVE-2020-9995  ...          NaN\n",
              "71347  CVE-2020-9996  ...          NaN\n",
              "71348  CVE-2020-9997  ...          NaN\n",
              "71349  CVE-2020-9999  ...          NaN\n",
              "\n",
              "[71350 rows x 5 columns]"
            ]
          },
          "metadata": {},
          "execution_count": 2
        }
      ]
    },
    {
      "cell_type": "code",
      "metadata": {
        "colab": {
          "base_uri": "https://localhost:8080/",
          "height": 424
        },
        "outputId": "44caaf9f-8645-45be-ce7d-f533ea877f07",
        "id": "6lsuVHMLpCYw"
      },
      "source": [
        "severities = {\n",
        "    'LOW': 0,\n",
        "    'MEDIUM': 0,\n",
        "    'HIGH': 1,\n",
        "    'CRITICAL': 1,\n",
        "}\n",
        "df['severity'] = df['severity'].apply(lambda x: severities[x])\n",
        "df"
      ],
      "execution_count": null,
      "outputs": [
        {
          "output_type": "execute_result",
          "data": {
            "text/html": [
              "\n",
              "  <div id=\"df-44aade2b-c96a-4ae8-ba5f-5d292a16944a\">\n",
              "    <div class=\"colab-df-container\">\n",
              "      <div>\n",
              "<style scoped>\n",
              "    .dataframe tbody tr th:only-of-type {\n",
              "        vertical-align: middle;\n",
              "    }\n",
              "\n",
              "    .dataframe tbody tr th {\n",
              "        vertical-align: top;\n",
              "    }\n",
              "\n",
              "    .dataframe thead th {\n",
              "        text-align: right;\n",
              "    }\n",
              "</style>\n",
              "<table border=\"1\" class=\"dataframe\">\n",
              "  <thead>\n",
              "    <tr style=\"text-align: right;\">\n",
              "      <th></th>\n",
              "      <th>cve_id</th>\n",
              "      <th>description</th>\n",
              "      <th>severity</th>\n",
              "      <th>has_exploit</th>\n",
              "      <th>exploit_ids</th>\n",
              "    </tr>\n",
              "  </thead>\n",
              "  <tbody>\n",
              "    <tr>\n",
              "      <th>0</th>\n",
              "      <td>CVE-2016-0002</td>\n",
              "      <td>The Microsoft (1) VBScript 5.7 and 5.8 and (2)...</td>\n",
              "      <td>1</td>\n",
              "      <td>0</td>\n",
              "      <td>NaN</td>\n",
              "    </tr>\n",
              "    <tr>\n",
              "      <th>1</th>\n",
              "      <td>CVE-2016-0003</td>\n",
              "      <td>Microsoft Edge allows remote attackers to exec...</td>\n",
              "      <td>1</td>\n",
              "      <td>0</td>\n",
              "      <td>NaN</td>\n",
              "    </tr>\n",
              "    <tr>\n",
              "      <th>2</th>\n",
              "      <td>CVE-2016-0005</td>\n",
              "      <td>Microsoft Internet Explorer 9 through 11 allow...</td>\n",
              "      <td>0</td>\n",
              "      <td>0</td>\n",
              "      <td>NaN</td>\n",
              "    </tr>\n",
              "    <tr>\n",
              "      <th>3</th>\n",
              "      <td>CVE-2016-0006</td>\n",
              "      <td>The sandbox implementation in Microsoft Window...</td>\n",
              "      <td>1</td>\n",
              "      <td>1</td>\n",
              "      <td>39311</td>\n",
              "    </tr>\n",
              "    <tr>\n",
              "      <th>4</th>\n",
              "      <td>CVE-2016-0007</td>\n",
              "      <td>The sandbox implementation in Microsoft Window...</td>\n",
              "      <td>1</td>\n",
              "      <td>1</td>\n",
              "      <td>39310,39311</td>\n",
              "    </tr>\n",
              "    <tr>\n",
              "      <th>...</th>\n",
              "      <td>...</td>\n",
              "      <td>...</td>\n",
              "      <td>...</td>\n",
              "      <td>...</td>\n",
              "      <td>...</td>\n",
              "    </tr>\n",
              "    <tr>\n",
              "      <th>71345</th>\n",
              "      <td>CVE-2020-9994</td>\n",
              "      <td>A path handling issue was addressed with impro...</td>\n",
              "      <td>1</td>\n",
              "      <td>0</td>\n",
              "      <td>NaN</td>\n",
              "    </tr>\n",
              "    <tr>\n",
              "      <th>71346</th>\n",
              "      <td>CVE-2020-9995</td>\n",
              "      <td>An issue existed in the parsing of URLs. This ...</td>\n",
              "      <td>0</td>\n",
              "      <td>0</td>\n",
              "      <td>NaN</td>\n",
              "    </tr>\n",
              "    <tr>\n",
              "      <th>71347</th>\n",
              "      <td>CVE-2020-9996</td>\n",
              "      <td>A use after free issue was addressed with impr...</td>\n",
              "      <td>1</td>\n",
              "      <td>0</td>\n",
              "      <td>NaN</td>\n",
              "    </tr>\n",
              "    <tr>\n",
              "      <th>71348</th>\n",
              "      <td>CVE-2020-9997</td>\n",
              "      <td>An information disclosure issue was addressed ...</td>\n",
              "      <td>0</td>\n",
              "      <td>0</td>\n",
              "      <td>NaN</td>\n",
              "    </tr>\n",
              "    <tr>\n",
              "      <th>71349</th>\n",
              "      <td>CVE-2020-9999</td>\n",
              "      <td>A memory corruption issue was addressed with i...</td>\n",
              "      <td>1</td>\n",
              "      <td>0</td>\n",
              "      <td>NaN</td>\n",
              "    </tr>\n",
              "  </tbody>\n",
              "</table>\n",
              "<p>71350 rows × 5 columns</p>\n",
              "</div>\n",
              "      <button class=\"colab-df-convert\" onclick=\"convertToInteractive('df-44aade2b-c96a-4ae8-ba5f-5d292a16944a')\"\n",
              "              title=\"Convert this dataframe to an interactive table.\"\n",
              "              style=\"display:none;\">\n",
              "        \n",
              "  <svg xmlns=\"http://www.w3.org/2000/svg\" height=\"24px\"viewBox=\"0 0 24 24\"\n",
              "       width=\"24px\">\n",
              "    <path d=\"M0 0h24v24H0V0z\" fill=\"none\"/>\n",
              "    <path d=\"M18.56 5.44l.94 2.06.94-2.06 2.06-.94-2.06-.94-.94-2.06-.94 2.06-2.06.94zm-11 1L8.5 8.5l.94-2.06 2.06-.94-2.06-.94L8.5 2.5l-.94 2.06-2.06.94zm10 10l.94 2.06.94-2.06 2.06-.94-2.06-.94-.94-2.06-.94 2.06-2.06.94z\"/><path d=\"M17.41 7.96l-1.37-1.37c-.4-.4-.92-.59-1.43-.59-.52 0-1.04.2-1.43.59L10.3 9.45l-7.72 7.72c-.78.78-.78 2.05 0 2.83L4 21.41c.39.39.9.59 1.41.59.51 0 1.02-.2 1.41-.59l7.78-7.78 2.81-2.81c.8-.78.8-2.07 0-2.86zM5.41 20L4 18.59l7.72-7.72 1.47 1.35L5.41 20z\"/>\n",
              "  </svg>\n",
              "      </button>\n",
              "      \n",
              "  <style>\n",
              "    .colab-df-container {\n",
              "      display:flex;\n",
              "      flex-wrap:wrap;\n",
              "      gap: 12px;\n",
              "    }\n",
              "\n",
              "    .colab-df-convert {\n",
              "      background-color: #E8F0FE;\n",
              "      border: none;\n",
              "      border-radius: 50%;\n",
              "      cursor: pointer;\n",
              "      display: none;\n",
              "      fill: #1967D2;\n",
              "      height: 32px;\n",
              "      padding: 0 0 0 0;\n",
              "      width: 32px;\n",
              "    }\n",
              "\n",
              "    .colab-df-convert:hover {\n",
              "      background-color: #E2EBFA;\n",
              "      box-shadow: 0px 1px 2px rgba(60, 64, 67, 0.3), 0px 1px 3px 1px rgba(60, 64, 67, 0.15);\n",
              "      fill: #174EA6;\n",
              "    }\n",
              "\n",
              "    [theme=dark] .colab-df-convert {\n",
              "      background-color: #3B4455;\n",
              "      fill: #D2E3FC;\n",
              "    }\n",
              "\n",
              "    [theme=dark] .colab-df-convert:hover {\n",
              "      background-color: #434B5C;\n",
              "      box-shadow: 0px 1px 3px 1px rgba(0, 0, 0, 0.15);\n",
              "      filter: drop-shadow(0px 1px 2px rgba(0, 0, 0, 0.3));\n",
              "      fill: #FFFFFF;\n",
              "    }\n",
              "  </style>\n",
              "\n",
              "      <script>\n",
              "        const buttonEl =\n",
              "          document.querySelector('#df-44aade2b-c96a-4ae8-ba5f-5d292a16944a button.colab-df-convert');\n",
              "        buttonEl.style.display =\n",
              "          google.colab.kernel.accessAllowed ? 'block' : 'none';\n",
              "\n",
              "        async function convertToInteractive(key) {\n",
              "          const element = document.querySelector('#df-44aade2b-c96a-4ae8-ba5f-5d292a16944a');\n",
              "          const dataTable =\n",
              "            await google.colab.kernel.invokeFunction('convertToInteractive',\n",
              "                                                     [key], {});\n",
              "          if (!dataTable) return;\n",
              "\n",
              "          const docLinkHtml = 'Like what you see? Visit the ' +\n",
              "            '<a target=\"_blank\" href=https://colab.research.google.com/notebooks/data_table.ipynb>data table notebook</a>'\n",
              "            + ' to learn more about interactive tables.';\n",
              "          element.innerHTML = '';\n",
              "          dataTable['output_type'] = 'display_data';\n",
              "          await google.colab.output.renderOutput(dataTable, element);\n",
              "          const docLink = document.createElement('div');\n",
              "          docLink.innerHTML = docLinkHtml;\n",
              "          element.appendChild(docLink);\n",
              "        }\n",
              "      </script>\n",
              "    </div>\n",
              "  </div>\n",
              "  "
            ],
            "text/plain": [
              "              cve_id  ...  exploit_ids\n",
              "0      CVE-2016-0002  ...          NaN\n",
              "1      CVE-2016-0003  ...          NaN\n",
              "2      CVE-2016-0005  ...          NaN\n",
              "3      CVE-2016-0006  ...        39311\n",
              "4      CVE-2016-0007  ...  39310,39311\n",
              "...              ...  ...          ...\n",
              "71345  CVE-2020-9994  ...          NaN\n",
              "71346  CVE-2020-9995  ...          NaN\n",
              "71347  CVE-2020-9996  ...          NaN\n",
              "71348  CVE-2020-9997  ...          NaN\n",
              "71349  CVE-2020-9999  ...          NaN\n",
              "\n",
              "[71350 rows x 5 columns]"
            ]
          },
          "metadata": {},
          "execution_count": 3
        }
      ]
    },
    {
      "cell_type": "code",
      "source": [
        "import tensorflow as tf\n",
        "df['description'] = df['description'].apply(lambda x: ' '.join(tf.keras.preprocessing.text.text_to_word_sequence(x)))\n",
        "df"
      ],
      "metadata": {
        "colab": {
          "base_uri": "https://localhost:8080/",
          "height": 424
        },
        "id": "M3fRTUTppcGQ",
        "outputId": "e903f9ed-769c-4bca-c7ab-f13e93bbe60f"
      },
      "execution_count": null,
      "outputs": [
        {
          "output_type": "execute_result",
          "data": {
            "text/html": [
              "\n",
              "  <div id=\"df-a35fa5cd-b25f-4103-8780-c777593b3549\">\n",
              "    <div class=\"colab-df-container\">\n",
              "      <div>\n",
              "<style scoped>\n",
              "    .dataframe tbody tr th:only-of-type {\n",
              "        vertical-align: middle;\n",
              "    }\n",
              "\n",
              "    .dataframe tbody tr th {\n",
              "        vertical-align: top;\n",
              "    }\n",
              "\n",
              "    .dataframe thead th {\n",
              "        text-align: right;\n",
              "    }\n",
              "</style>\n",
              "<table border=\"1\" class=\"dataframe\">\n",
              "  <thead>\n",
              "    <tr style=\"text-align: right;\">\n",
              "      <th></th>\n",
              "      <th>cve_id</th>\n",
              "      <th>description</th>\n",
              "      <th>severity</th>\n",
              "      <th>has_exploit</th>\n",
              "      <th>exploit_ids</th>\n",
              "    </tr>\n",
              "  </thead>\n",
              "  <tbody>\n",
              "    <tr>\n",
              "      <th>0</th>\n",
              "      <td>CVE-2016-0002</td>\n",
              "      <td>the microsoft 1 vbscript 5 7 and 5 8 and 2 jsc...</td>\n",
              "      <td>1</td>\n",
              "      <td>0</td>\n",
              "      <td>NaN</td>\n",
              "    </tr>\n",
              "    <tr>\n",
              "      <th>1</th>\n",
              "      <td>CVE-2016-0003</td>\n",
              "      <td>microsoft edge allows remote attackers to exec...</td>\n",
              "      <td>1</td>\n",
              "      <td>0</td>\n",
              "      <td>NaN</td>\n",
              "    </tr>\n",
              "    <tr>\n",
              "      <th>2</th>\n",
              "      <td>CVE-2016-0005</td>\n",
              "      <td>microsoft internet explorer 9 through 11 allow...</td>\n",
              "      <td>0</td>\n",
              "      <td>0</td>\n",
              "      <td>NaN</td>\n",
              "    </tr>\n",
              "    <tr>\n",
              "      <th>3</th>\n",
              "      <td>CVE-2016-0006</td>\n",
              "      <td>the sandbox implementation in microsoft window...</td>\n",
              "      <td>1</td>\n",
              "      <td>1</td>\n",
              "      <td>39311</td>\n",
              "    </tr>\n",
              "    <tr>\n",
              "      <th>4</th>\n",
              "      <td>CVE-2016-0007</td>\n",
              "      <td>the sandbox implementation in microsoft window...</td>\n",
              "      <td>1</td>\n",
              "      <td>1</td>\n",
              "      <td>39310,39311</td>\n",
              "    </tr>\n",
              "    <tr>\n",
              "      <th>...</th>\n",
              "      <td>...</td>\n",
              "      <td>...</td>\n",
              "      <td>...</td>\n",
              "      <td>...</td>\n",
              "      <td>...</td>\n",
              "    </tr>\n",
              "    <tr>\n",
              "      <th>71345</th>\n",
              "      <td>CVE-2020-9994</td>\n",
              "      <td>a path handling issue was addressed with impro...</td>\n",
              "      <td>1</td>\n",
              "      <td>0</td>\n",
              "      <td>NaN</td>\n",
              "    </tr>\n",
              "    <tr>\n",
              "      <th>71346</th>\n",
              "      <td>CVE-2020-9995</td>\n",
              "      <td>an issue existed in the parsing of urls this i...</td>\n",
              "      <td>0</td>\n",
              "      <td>0</td>\n",
              "      <td>NaN</td>\n",
              "    </tr>\n",
              "    <tr>\n",
              "      <th>71347</th>\n",
              "      <td>CVE-2020-9996</td>\n",
              "      <td>a use after free issue was addressed with impr...</td>\n",
              "      <td>1</td>\n",
              "      <td>0</td>\n",
              "      <td>NaN</td>\n",
              "    </tr>\n",
              "    <tr>\n",
              "      <th>71348</th>\n",
              "      <td>CVE-2020-9997</td>\n",
              "      <td>an information disclosure issue was addressed ...</td>\n",
              "      <td>0</td>\n",
              "      <td>0</td>\n",
              "      <td>NaN</td>\n",
              "    </tr>\n",
              "    <tr>\n",
              "      <th>71349</th>\n",
              "      <td>CVE-2020-9999</td>\n",
              "      <td>a memory corruption issue was addressed with i...</td>\n",
              "      <td>1</td>\n",
              "      <td>0</td>\n",
              "      <td>NaN</td>\n",
              "    </tr>\n",
              "  </tbody>\n",
              "</table>\n",
              "<p>71350 rows × 5 columns</p>\n",
              "</div>\n",
              "      <button class=\"colab-df-convert\" onclick=\"convertToInteractive('df-a35fa5cd-b25f-4103-8780-c777593b3549')\"\n",
              "              title=\"Convert this dataframe to an interactive table.\"\n",
              "              style=\"display:none;\">\n",
              "        \n",
              "  <svg xmlns=\"http://www.w3.org/2000/svg\" height=\"24px\"viewBox=\"0 0 24 24\"\n",
              "       width=\"24px\">\n",
              "    <path d=\"M0 0h24v24H0V0z\" fill=\"none\"/>\n",
              "    <path d=\"M18.56 5.44l.94 2.06.94-2.06 2.06-.94-2.06-.94-.94-2.06-.94 2.06-2.06.94zm-11 1L8.5 8.5l.94-2.06 2.06-.94-2.06-.94L8.5 2.5l-.94 2.06-2.06.94zm10 10l.94 2.06.94-2.06 2.06-.94-2.06-.94-.94-2.06-.94 2.06-2.06.94z\"/><path d=\"M17.41 7.96l-1.37-1.37c-.4-.4-.92-.59-1.43-.59-.52 0-1.04.2-1.43.59L10.3 9.45l-7.72 7.72c-.78.78-.78 2.05 0 2.83L4 21.41c.39.39.9.59 1.41.59.51 0 1.02-.2 1.41-.59l7.78-7.78 2.81-2.81c.8-.78.8-2.07 0-2.86zM5.41 20L4 18.59l7.72-7.72 1.47 1.35L5.41 20z\"/>\n",
              "  </svg>\n",
              "      </button>\n",
              "      \n",
              "  <style>\n",
              "    .colab-df-container {\n",
              "      display:flex;\n",
              "      flex-wrap:wrap;\n",
              "      gap: 12px;\n",
              "    }\n",
              "\n",
              "    .colab-df-convert {\n",
              "      background-color: #E8F0FE;\n",
              "      border: none;\n",
              "      border-radius: 50%;\n",
              "      cursor: pointer;\n",
              "      display: none;\n",
              "      fill: #1967D2;\n",
              "      height: 32px;\n",
              "      padding: 0 0 0 0;\n",
              "      width: 32px;\n",
              "    }\n",
              "\n",
              "    .colab-df-convert:hover {\n",
              "      background-color: #E2EBFA;\n",
              "      box-shadow: 0px 1px 2px rgba(60, 64, 67, 0.3), 0px 1px 3px 1px rgba(60, 64, 67, 0.15);\n",
              "      fill: #174EA6;\n",
              "    }\n",
              "\n",
              "    [theme=dark] .colab-df-convert {\n",
              "      background-color: #3B4455;\n",
              "      fill: #D2E3FC;\n",
              "    }\n",
              "\n",
              "    [theme=dark] .colab-df-convert:hover {\n",
              "      background-color: #434B5C;\n",
              "      box-shadow: 0px 1px 3px 1px rgba(0, 0, 0, 0.15);\n",
              "      filter: drop-shadow(0px 1px 2px rgba(0, 0, 0, 0.3));\n",
              "      fill: #FFFFFF;\n",
              "    }\n",
              "  </style>\n",
              "\n",
              "      <script>\n",
              "        const buttonEl =\n",
              "          document.querySelector('#df-a35fa5cd-b25f-4103-8780-c777593b3549 button.colab-df-convert');\n",
              "        buttonEl.style.display =\n",
              "          google.colab.kernel.accessAllowed ? 'block' : 'none';\n",
              "\n",
              "        async function convertToInteractive(key) {\n",
              "          const element = document.querySelector('#df-a35fa5cd-b25f-4103-8780-c777593b3549');\n",
              "          const dataTable =\n",
              "            await google.colab.kernel.invokeFunction('convertToInteractive',\n",
              "                                                     [key], {});\n",
              "          if (!dataTable) return;\n",
              "\n",
              "          const docLinkHtml = 'Like what you see? Visit the ' +\n",
              "            '<a target=\"_blank\" href=https://colab.research.google.com/notebooks/data_table.ipynb>data table notebook</a>'\n",
              "            + ' to learn more about interactive tables.';\n",
              "          element.innerHTML = '';\n",
              "          dataTable['output_type'] = 'display_data';\n",
              "          await google.colab.output.renderOutput(dataTable, element);\n",
              "          const docLink = document.createElement('div');\n",
              "          docLink.innerHTML = docLinkHtml;\n",
              "          element.appendChild(docLink);\n",
              "        }\n",
              "      </script>\n",
              "    </div>\n",
              "  </div>\n",
              "  "
            ],
            "text/plain": [
              "              cve_id  ...  exploit_ids\n",
              "0      CVE-2016-0002  ...          NaN\n",
              "1      CVE-2016-0003  ...          NaN\n",
              "2      CVE-2016-0005  ...          NaN\n",
              "3      CVE-2016-0006  ...        39311\n",
              "4      CVE-2016-0007  ...  39310,39311\n",
              "...              ...  ...          ...\n",
              "71345  CVE-2020-9994  ...          NaN\n",
              "71346  CVE-2020-9995  ...          NaN\n",
              "71347  CVE-2020-9996  ...          NaN\n",
              "71348  CVE-2020-9997  ...          NaN\n",
              "71349  CVE-2020-9999  ...          NaN\n",
              "\n",
              "[71350 rows x 5 columns]"
            ]
          },
          "metadata": {},
          "execution_count": 8
        }
      ]
    },
    {
      "cell_type": "code",
      "source": [
        "RANDOM_STATE = 42\n",
        "train_df, val_df, test_df = \\\n",
        "  np.split(df.sample(frac=1, random_state=RANDOM_STATE),\n",
        "                       [int(.70*len(df)), int(.85*len(df))])"
      ],
      "metadata": {
        "id": "vjT7VUBHqRoP"
      },
      "execution_count": null,
      "outputs": []
    },
    {
      "cell_type": "code",
      "source": [
        "BUFFER_SIZE = 10000\n",
        "BATCH_SIZE = 64\n",
        "\n",
        "train_dataset = tf.data.Dataset.from_tensor_slices(\n",
        "    (\n",
        "        tf.cast(train_df['description'].values, tf.string),\n",
        "        tf.cast(train_df['severity'].values, tf.int64),\n",
        "    )\n",
        ")\n",
        "val_dataset = tf.data.Dataset.from_tensor_slices(\n",
        "    (\n",
        "        tf.cast(val_df['description'].values, tf.string),\n",
        "        tf.cast(val_df['severity'].values, tf.int64),\n",
        "    )\n",
        ")\n",
        "test_dataset = tf.data.Dataset.from_tensor_slices(\n",
        "    (\n",
        "        tf.cast(test_df['description'].values, tf.string),\n",
        "        tf.cast(test_df['severity'].values, tf.int64),\n",
        "    )\n",
        ")\n",
        "\n",
        "train_dataset = train_dataset.shuffle(BUFFER_SIZE).batch(BATCH_SIZE).prefetch(tf.data.AUTOTUNE)\n",
        "val_dataset = val_dataset.batch(BATCH_SIZE).prefetch(tf.data.AUTOTUNE)\n",
        "test_dataset = test_dataset.batch(BATCH_SIZE).prefetch(tf.data.AUTOTUNE)"
      ],
      "metadata": {
        "id": "HSCa4OD3qVzO"
      },
      "execution_count": 9,
      "outputs": []
    },
    {
      "cell_type": "code",
      "source": [
        "VOCAB_SIZE = 50000\n",
        "encoder = tf.keras.layers.experimental.preprocessing.TextVectorization(\n",
        "    max_tokens=VOCAB_SIZE)\n",
        "encoder.adapt(train_dataset.map(lambda text, label: text))"
      ],
      "metadata": {
        "id": "CtcnJ4lbqulA"
      },
      "execution_count": 10,
      "outputs": []
    },
    {
      "cell_type": "code",
      "metadata": {
        "id": "I6MUJWiFjpdM"
      },
      "source": [
        "dataframes = {\n",
        "    'train': train_df,\n",
        "    'val': val_df,\n",
        "    'test': test_df,\n",
        "}\n",
        "\n",
        "severities = {\n",
        "    'LOW': 0,\n",
        "    'MEDIUM': 0,\n",
        "    'HIGH': 1,\n",
        "    'CRITICAL': 1,\n",
        "}"
      ],
      "execution_count": null,
      "outputs": []
    },
    {
      "cell_type": "markdown",
      "metadata": {
        "id": "7zn6F6mqhjvi"
      },
      "source": [
        "Now you are ready to train your model. First, you will need to define a model as we did for the sentiment classification example. Then, you should call the .fit method to train your model with the dataset we just defined above."
      ]
    },
    {
      "cell_type": "code",
      "metadata": {
        "id": "L0ZKM8L1jxtX"
      },
      "source": [
        "model = tf.keras.Sequential([\n",
        "    encoder,\n",
        "    tf.keras.layers.Embedding(\n",
        "        input_dim=len(encoder.get_vocabulary()),\n",
        "        output_dim=64,\n",
        "        # Use masking to handle the variable sequence lengths\n",
        "        mask_zero=True),\n",
        "    tf.keras.layers.Bidirectional(tf.keras.layers.LSTM(64)),\n",
        "    tf.keras.layers.Dense(64, activation='relu'),\n",
        "    tf.keras.layers.Dense(1)\n",
        "])"
      ],
      "execution_count": 12,
      "outputs": []
    },
    {
      "cell_type": "code",
      "metadata": {
        "id": "BWYgFnM4mgF1"
      },
      "source": [
        "model.compile(loss=tf.keras.losses.BinaryCrossentropy(from_logits=True),\n",
        "              optimizer=tf.keras.optimizers.Adam(1e-4),\n",
        "              metrics=['accuracy'])"
      ],
      "execution_count": 15,
      "outputs": []
    },
    {
      "cell_type": "code",
      "metadata": {
        "colab": {
          "base_uri": "https://localhost:8080/"
        },
        "id": "wvpTuYlVnaXY",
        "outputId": "7f1c4b2d-4020-43a0-c172-a702550c35ae"
      },
      "source": [
        "history = model.fit(train_dataset, epochs=10,\n",
        "                    validation_data=val_dataset,\n",
        "                    validation_steps=30)"
      ],
      "execution_count": 16,
      "outputs": [
        {
          "output_type": "stream",
          "name": "stdout",
          "text": [
            "Epoch 1/10\n",
            "781/781 [==============================] - 34s 31ms/step - loss: 0.5067 - accuracy: 0.7018 - val_loss: 0.4133 - val_accuracy: 0.8026\n",
            "Epoch 2/10\n",
            "781/781 [==============================] - 22s 29ms/step - loss: 0.3504 - accuracy: 0.8386 - val_loss: 0.3996 - val_accuracy: 0.8188\n",
            "Epoch 3/10\n",
            "781/781 [==============================] - 30s 39ms/step - loss: 0.2988 - accuracy: 0.8681 - val_loss: 0.3988 - val_accuracy: 0.7917\n",
            "Epoch 4/10\n",
            "781/781 [==============================] - 22s 28ms/step - loss: 0.2589 - accuracy: 0.8901 - val_loss: 0.4138 - val_accuracy: 0.8146\n",
            "Epoch 5/10\n",
            "781/781 [==============================] - 22s 28ms/step - loss: 0.2256 - accuracy: 0.9079 - val_loss: 0.4528 - val_accuracy: 0.8203\n",
            "Epoch 6/10\n",
            "781/781 [==============================] - 22s 28ms/step - loss: 0.1993 - accuracy: 0.9202 - val_loss: 0.4683 - val_accuracy: 0.8161\n",
            "Epoch 7/10\n",
            "781/781 [==============================] - 22s 28ms/step - loss: 0.1773 - accuracy: 0.9297 - val_loss: 0.4801 - val_accuracy: 0.8099\n",
            "Epoch 8/10\n",
            "781/781 [==============================] - 22s 28ms/step - loss: 0.1603 - accuracy: 0.9381 - val_loss: 0.5073 - val_accuracy: 0.8052\n",
            "Epoch 9/10\n",
            "781/781 [==============================] - 23s 29ms/step - loss: 0.1475 - accuracy: 0.9436 - val_loss: 0.6091 - val_accuracy: 0.8115\n",
            "Epoch 10/10\n",
            "781/781 [==============================] - 22s 28ms/step - loss: 0.1351 - accuracy: 0.9489 - val_loss: 0.5834 - val_accuracy: 0.8156\n"
          ]
        }
      ]
    },
    {
      "cell_type": "markdown",
      "metadata": {
        "id": "uchk_VjK2H7g"
      },
      "source": [
        "After training your model, use the `test` split to calculate and print your model's accuracy."
      ]
    },
    {
      "cell_type": "code",
      "metadata": {
        "colab": {
          "base_uri": "https://localhost:8080/"
        },
        "id": "EPQhjlz9geB5",
        "outputId": "665d4d61-6236-4a03-9848-c50f9bcbcbca"
      },
      "source": [
        "test_loss, test_acc = model.evaluate(test_dataset)\n",
        "\n",
        "print('Test Loss:', test_loss)\n",
        "print('Test Accuracy:', test_acc)"
      ],
      "execution_count": 17,
      "outputs": [
        {
          "output_type": "stream",
          "name": "stdout",
          "text": [
            "168/168 [==============================] - 3s 16ms/step - loss: 0.5938 - accuracy: 0.8177\n",
            "Test Loss: 0.5937585830688477\n",
            "Test Accuracy: 0.8177146315574646\n"
          ]
        }
      ]
    },
    {
      "cell_type": "markdown",
      "metadata": {
        "id": "oAIZvmsphznm"
      },
      "source": [
        "Finally, plot a graph to compare the accuracy and loss values over the epochs."
      ]
    },
    {
      "cell_type": "code",
      "source": [
        "def plot_graphs(history, metric):\n",
        "  plt.plot(history.history[metric])\n",
        "  plt.plot(history.history['val_'+metric], '')\n",
        "  plt.xlabel(\"Epochs\")\n",
        "  plt.ylabel(metric)\n",
        "  plt.legend([metric, 'val_'+metric])"
      ],
      "metadata": {
        "id": "QvyLsfJuzrds"
      },
      "execution_count": 19,
      "outputs": []
    },
    {
      "cell_type": "code",
      "metadata": {
        "id": "tyhP9T-0gU3A",
        "colab": {
          "base_uri": "https://localhost:8080/",
          "height": 518
        },
        "outputId": "75b7e315-fa19-4517-fb5d-5c1ba9aa50ea"
      },
      "source": [
        "plt.figure(figsize=(16, 8))\n",
        "plt.subplot(1, 2, 1)\n",
        "plot_graphs(history, 'accuracy')\n",
        "plt.ylim(None, 1)\n",
        "plt.subplot(1, 2, 2)\n",
        "plot_graphs(history, 'loss')\n",
        "plt.ylim(0, None)"
      ],
      "execution_count": 20,
      "outputs": [
        {
          "output_type": "execute_result",
          "data": {
            "text/plain": [
              "(0.0, 0.6327798433601857)"
            ]
          },
          "metadata": {},
          "execution_count": 20
        },
        {
          "output_type": "display_data",
          "data": {
            "image/png": "[encoded data removed]",
            "text/plain": [
              "<Figure size 1152x576 with 2 Axes>"
            ]
          },
          "metadata": {
            "needs_background": "light"
          }
        }
      ]
    }
  ]
}